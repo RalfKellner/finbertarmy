{
 "cells": [
  {
   "cell_type": "code",
   "execution_count": 8,
   "metadata": {},
   "outputs": [
    {
     "name": "stdout",
     "output_type": "stream",
     "text": [
      "Starting to count observations in each table...\n",
      "Counting of observations in each table finished.\n",
      "Table count:\n",
      " -------------- \n",
      "k_report_sequences: 16066600\n",
      "ec_sequences: 3780740\n",
      "esg_sequences: 277746\n"
     ]
    }
   ],
   "source": [
    "from finroberta.finroberta_model import FinRobertaTokenizer, FinRobertaDataSet\n",
    "\n",
    "\n",
    "dataset = FinRobertaDataSet(\"/Users/ralfkellner/Data/Textdata/FinRobertaTextsProcessed.sqlite\", shuffle_reports=False, batch_size = 32)"
   ]
  },
  {
   "cell_type": "code",
   "execution_count": 9,
   "metadata": {},
   "outputs": [
    {
     "name": "stdout",
     "output_type": "stream",
     "text": [
      "Please provide the maximum number of text sequences you want to use for table k_report_sequences.\n",
      " The highest possible number is 16066600.\n",
      "Please provide the maximum number of text sequences you want to use for table ec_sequences.\n",
      " The highest possible number is 3780740.\n",
      "Please provide the maximum number of text sequences you want to use for table esg_sequences.\n",
      " The highest possible number is 277746.\n"
     ]
    }
   ],
   "source": [
    "dataset.set_limit_obs()"
   ]
  },
  {
   "cell_type": "code",
   "execution_count": 13,
   "metadata": {},
   "outputs": [
    {
     "name": "stdout",
     "output_type": "stream",
     "text": [
      "no\n"
     ]
    }
   ],
   "source": [
    "print(\"yeah\") if dataset.table_infos[\"ec_sequences\"][\"limit\"] else print(\"no\")"
   ]
  },
  {
   "cell_type": "code",
   "execution_count": 3,
   "metadata": {},
   "outputs": [],
   "source": [
    "import os\n",
    "import json\n",
    "\n",
    "max_seq_length = 252\n",
    "hidden_size = 768\n",
    "n_heads = 12\n",
    "n_layers = 6\n",
    "\n",
    "new_folder = f\"finroberta_seq_len_{max_seq_length}_hidden_dim_{hidden_size}_nheads_{n_heads}_nlayers_{n_layers}_financial_mask\"\n",
    "os.mkdir(os.path.join(\"trained_model\", new_folder))\n",
    "os.chdir(os.path.join(\"trained_model\", new_folder))\n",
    "\n"
   ]
  },
  {
   "cell_type": "code",
   "execution_count": 7,
   "metadata": {},
   "outputs": [
    {
     "data": {
      "text/plain": [
       "'/Users/ralfkellner/Library/Mobile Documents/com~apple~CloudDocs/Paper/wip/finroberta/notebooks'"
      ]
     },
     "execution_count": 7,
     "metadata": {},
     "output_type": "execute_result"
    }
   ],
   "source": [
    "os.getcwd()"
   ]
  },
  {
   "cell_type": "code",
   "execution_count": 6,
   "metadata": {},
   "outputs": [],
   "source": [
    "os.chdir(\"../../\")"
   ]
  },
  {
   "cell_type": "code",
   "execution_count": 4,
   "metadata": {},
   "outputs": [],
   "source": [
    "import json\n",
    "\n",
    "with open(\"dataset_info.json\", \"w\") as jf:\n",
    "    json.dump(dataset.table_infos, jf)\n",
    "\n"
   ]
  }
 ],
 "metadata": {
  "kernelspec": {
   "display_name": ".venv",
   "language": "python",
   "name": "python3"
  },
  "language_info": {
   "codemirror_mode": {
    "name": "ipython",
    "version": 3
   },
   "file_extension": ".py",
   "mimetype": "text/x-python",
   "name": "python",
   "nbconvert_exporter": "python",
   "pygments_lexer": "ipython3",
   "version": "3.11.4"
  }
 },
 "nbformat": 4,
 "nbformat_minor": 2
}
