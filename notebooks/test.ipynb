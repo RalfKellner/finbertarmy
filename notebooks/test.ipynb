{
 "cells": [
  {
   "cell_type": "code",
   "execution_count": 2,
   "metadata": {},
   "outputs": [],
   "source": [
    "from transformers import RobertaForMaskedLM\n",
    "from finbertarmy.finbert_modeling import FinTokenizer\n",
    "\n",
    "tokenizer = FinTokenizer(\"../dicts_and_tokenizers/finroberta_tokenizer.json\")\n",
    "model = RobertaForMaskedLM.from_pretrained(\"../trained_models/finroberta_seq_len_252_hidden_dim_768_nheads_12_nlayers_6/finroberta\")"
   ]
  },
  {
   "cell_type": "code",
   "execution_count": 24,
   "metadata": {},
   "outputs": [
    {
     "ename": "ModuleNotFoundError",
     "evalue": "No module named 'finbertarmy'",
     "output_type": "error",
     "traceback": [
      "\u001b[0;31m---------------------------------------------------------------------------\u001b[0m",
      "\u001b[0;31mModuleNotFoundError\u001b[0m                       Traceback (most recent call last)",
      "Cell \u001b[0;32mIn[24], line 2\u001b[0m\n\u001b[1;32m      1\u001b[0m \u001b[38;5;28;01mfrom\u001b[39;00m \u001b[38;5;21;01mtransformers\u001b[39;00m \u001b[38;5;28;01mimport\u001b[39;00m RobertaForSequenceClassification\n\u001b[0;32m----> 2\u001b[0m \u001b[38;5;28;01mfrom\u001b[39;00m \u001b[38;5;21;01mfinbertarmy\u001b[39;00m\u001b[38;5;21;01m.\u001b[39;00m\u001b[38;5;21;01mfinbert_modeling\u001b[39;00m \u001b[38;5;28;01mimport\u001b[39;00m FinTokenizer\n\u001b[1;32m      3\u001b[0m \u001b[38;5;28;01mfrom\u001b[39;00m \u001b[38;5;21;01mdatasets\u001b[39;00m \u001b[38;5;28;01mimport\u001b[39;00m load_dataset\n\u001b[1;32m      4\u001b[0m \u001b[38;5;28;01mfrom\u001b[39;00m \u001b[38;5;21;01mtorch\u001b[39;00m\u001b[38;5;21;01m.\u001b[39;00m\u001b[38;5;21;01mutils\u001b[39;00m\u001b[38;5;21;01m.\u001b[39;00m\u001b[38;5;21;01mdata\u001b[39;00m \u001b[38;5;28;01mimport\u001b[39;00m DataLoader\n",
      "\u001b[0;31mModuleNotFoundError\u001b[0m: No module named 'finbertarmy'"
     ]
    }
   ],
   "source": [
    "from transformers import RobertaForSequenceClassification\n",
    "from finbertarmy.finbert_modeling import FinTokenizer\n",
    "from datasets import load_dataset\n",
    "from torch.utils.data import DataLoader\n",
    "import torch\n",
    "from tqdm.auto import tqdm\n",
    "import evaluate\n",
    "\n",
    "# determine if gpu is available\n",
    "if torch.backends.mps.is_available():\n",
    "    device = torch.device(\"mps\")\n",
    "else:\n",
    "    print (\"MPS device not found.\")\n",
    "    device = torch.device(\"cpu\")\n",
    "\n",
    "tokenizer = FinTokenizer(\"../dicts_and_tokenizers/finroberta_tokenizer.json\")\n",
    "\n",
    "def tokenize_function(dataset_row):\n",
    "    return tokenizer(dataset_row[\"sentence\"], padding = \"max_length\", max_length = 252, truncation = True)\n",
    "\n",
    "# prepare data\n",
    "dataset = load_dataset(\"financial_phrasebank\", 'sentences_66agree')\n",
    "\n",
    "tokenized_datasets = dataset.map(tokenize_function, batched=True)\n",
    "tokenized_datasets = tokenized_datasets[\"train\"]\n",
    "tokenized_datasets = tokenized_datasets.remove_columns([\"sentence\"])\n",
    "tokenized_datasets = tokenized_datasets.rename_column(\"label\", \"labels\")\n",
    "tokenized_datasets.set_format(\"torch\")\n",
    "tokenized_datasets = tokenized_datasets.shuffle(seed = 42)\n",
    "\n",
    "training_data = tokenized_datasets.select(list(range(3000)))\n",
    "evaluation_data = tokenized_datasets.select(list(range(3000, tokenized_datasets.num_rows)))\n",
    "\n",
    "train_dataloader = DataLoader(training_data, shuffle=True, batch_size=8)\n",
    "eval_dataloader = DataLoader(evaluation_data, batch_size=8)\n",
    "\n",
    "# load model\n",
    "model_name = \"finroberta_seq_len_252_hidden_dim_768_nheads_12_nlayers_6/\"\n",
    "task = \"financial_phrasebank/\"\n",
    "model_path = \"../finetuned_models/\" + model_name + task\n",
    "model = RobertaForSequenceClassification.from_pretrained(model_path, num_labels = 3)\n",
    "model.to(device)\n",
    "\n",
    "\n",
    "# determine a metric for evaluation\n",
    "train_metric = evaluate.load(\"accuracy\")\n",
    "train_loop = tqdm(train_dataloader)\n",
    "for batch in train_loop:\n",
    "    batch = {k: v.to(device) for k, v in batch.items()}\n",
    "    with torch.inference_mode():\n",
    "        outputs = model(**batch)\n",
    "    logits = outputs.logits \n",
    "    predictions = torch.argmax(logits, dim = 1)\n",
    "    train_metric.add_batch(predictions = predictions, references = batch[\"labels\"])\n",
    "\n",
    "train_acc = train_metric.compute()\n",
    "print(f\"Training accuracy after epoch: {train_acc['accuracy']}\")\n",
    "\n",
    "# determine a metric for evaluation\n",
    "eval_metric = evaluate.load(\"accuracy\")\n",
    "eval_loop = tqdm(eval_dataloader)\n",
    "for batch in eval_loop:\n",
    "    batch = {k: v.to(device) for k, v in batch.items()}\n",
    "    with torch.inference_mode():\n",
    "        outputs = model(**batch)\n",
    "    logits = outputs.logits \n",
    "    predictions = torch.argmax(logits, dim = 1)\n",
    "    eval_metric.add_batch(predictions = predictions, references = batch[\"labels\"])\n",
    "\n",
    "eval_acc = eval_metric.compute()\n",
    "print(f\"Evaluation accuracy after epoch: {eval_acc['accuracy']}\")"
   ]
  }
 ],
 "metadata": {
  "kernelspec": {
   "display_name": ".venv",
   "language": "python",
   "name": "python3"
  },
  "language_info": {
   "codemirror_mode": {
    "name": "ipython",
    "version": 3
   },
   "file_extension": ".py",
   "mimetype": "text/x-python",
   "name": "python",
   "nbconvert_exporter": "python",
   "pygments_lexer": "ipython3",
   "version": "3.11.4"
  }
 },
 "nbformat": 4,
 "nbformat_minor": 2
}
